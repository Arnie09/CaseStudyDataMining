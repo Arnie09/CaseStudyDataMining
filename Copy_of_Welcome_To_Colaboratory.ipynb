{
  "nbformat": 4,
  "nbformat_minor": 0,
  "metadata": {
    "colab": {
      "name": "Copy of Welcome To Colaboratory",
      "version": "0.3.2",
      "provenance": [],
      "collapsed_sections": [],
      "toc_visible": true
    },
    "kernelspec": {
      "display_name": "Python 3",
      "name": "python3"
    }
  },
  "cells": [
    {
      "metadata": {
        "colab_type": "text",
        "id": "5fCEDCU_qrC0"
      },
      "cell_type": "markdown",
      "source": [
        "<img height=\"45px\" src=\"https://colab.research.google.com/img/colab_favicon.ico\" align=\"left\" hspace=\"10px\" vspace=\"0px\">\n",
        "\n",
        "<h1>Welcome to Colaboratory!</h1>\n",
        "\n",
        "Colaboratory is a free Jupyter notebook environment that requires no setup and runs entirely in the cloud.\n",
        "\n",
        "With Colaboratory you can write and execute code, save and share your analyses, and access powerful computing resources, all for free from your browser."
      ]
    },
    {
      "metadata": {
        "id": "AAEoLgfYYgTT",
        "colab_type": "code",
        "colab": {
          "base_uri": "https://localhost:8080/",
          "height": 2503
        },
        "outputId": "5279ec3d-9068-47d5-d8fb-4e7a91b57e15"
      },
      "cell_type": "code",
      "source": [
        "import freqItemsInCaseStudyBest\n"
      ],
      "execution_count": 1,
      "outputs": [
        {
          "output_type": "stream",
          "text": [
            "['CS681'] => ['HU481'] : 90%\n",
            "['CS681', 'CH301'] => ['HU481'] : 91%\n",
            "['CH301'] => ['HU481'] : 92%\n",
            "['CS681', 'CH301', 'CS201'] => ['HU481'] : 93%\n",
            "['CH301', 'CS201'] => ['HU481'] : 93%\n",
            "['CS681', 'CH301', 'M(CS)401'] => ['HU481'] : 93%\n",
            "['CH301', 'M(CS)401'] => ['HU481'] : 94%\n",
            "['CS681', 'CH301', 'M(CS)401', 'CS201'] => ['HU481'] : 95%\n",
            "['CH301', 'M(CS)401', 'CS201'] => ['HU481'] : 96%\n",
            "['CS681', 'M(CS)401'] => ['HU481'] : 88%\n",
            "['CS681', 'M(CS)401', 'CS201'] => ['HU481'] : 90%\n",
            "['M(CS)401'] => ['HU481'] : 90%\n",
            "['M(CS)401', 'CS605A'] => ['HU481'] : 88%\n",
            "['M(CS)401', 'CS605A', 'CS201'] => ['HU481'] : 91%\n",
            "['M(CS)401', 'CS201'] => ['HU481'] : 91%\n",
            "['CS681', 'M(CS)401', 'HU301'] => ['HU481'] : 90%\n",
            "['M(CS)401', 'HU301'] => ['HU481'] : 92%\n",
            "['M(CS)401', 'CS201', 'HU301'] => ['HU481'] : 95%\n",
            "['M(CS)401', 'CS401'] => ['HU481'] : 84%\n",
            "['CH301', 'CS401'] => ['HU481'] : 83%\n",
            "['CS402'] => ['HU481'] : 92%\n",
            "['M(CS)401', 'CS501'] => ['HU481'] : 92%\n",
            "['HU481', 'M(CS)401', 'CS501'] => ['CS201'] : 82%\n",
            "['M(CS)401', 'CS501', 'CS201'] => ['HU481'] : 95%\n",
            "['CH301', 'CS501'] => ['HU481'] : 96%\n",
            "['CS681', 'CS501'] => ['HU481'] : 90%\n",
            "['CS501'] => ['HU481'] : 91%\n",
            "['CS501', 'CS302'] => ['HU481'] : 86%\n",
            "['CS501', 'M201'] => ['CS201'] : 80%\n",
            "['CS501', 'M201'] => ['HU481'] : 88%\n",
            "['CS681', 'CS501', 'CS201'] => ['HU481'] : 90%\n",
            "['CS501', 'CS201'] => ['HU481'] : 90%\n",
            "['CS501', 'CS605A'] => ['HU481'] : 91%\n",
            "['CS501', 'HU601'] => ['HU481'] : 90%\n",
            "['CS501', 'HU301'] => ['HU481'] : 95%\n",
            "['CS502'] => ['HU481'] : 92%\n",
            "['CS501', 'CS504D'] => ['HU481'] : 92%\n",
            "['M(CS)401', 'CS504D'] => ['HU481'] : 94%\n",
            "['CH301', 'CS504D'] => ['HU481'] : 100%\n",
            "['CS681', 'M(CS)401', 'CS504D'] => ['HU481'] : 90%\n",
            "['CS681', 'CS504D'] => ['HU481'] : 93%\n",
            "['CS504D'] => ['HU481'] : 96%\n",
            "['CS504D', 'CS302'] => ['HU481'] : 91%\n",
            "['CS504D', 'CS605A'] => ['HU481'] : 96%\n",
            "['CS504D', 'HU301'] => ['HU481'] : 95%\n",
            "['CS681', 'CS504D', 'CS201'] => ['HU481'] : 95%\n",
            "['M(CS)401', 'CS504D', 'CS201'] => ['HU481'] : 95%\n",
            "['CS504D', 'CS201'] => ['HU481'] : 97%\n",
            "['CS681', 'CS605A'] => ['HU481'] : 86%\n",
            "['CS605A'] => ['HU481'] : 89%\n",
            "['CS681', 'CH301', 'CS605A'] => ['HU481'] : 86%\n",
            "['CH301', 'CS605A'] => ['HU481'] : 90%\n",
            "['CS681', 'CS605A', 'CS201'] => ['HU481'] : 88%\n",
            "['CS605A', 'CS201'] => ['HU481'] : 89%\n",
            "['CS605A', 'ME201'] => ['HU481'] : 89%\n",
            "['CS681', 'ME201'] => ['HU481'] : 94%\n",
            "['ME201'] => ['HU481'] : 91%\n",
            "['CH301', 'ME201'] => ['HU481'] : 88%\n",
            "['ME201', 'CS201'] => ['HU481'] : 88%\n",
            "['ME201', 'HU601'] => ['HU481'] : 100%\n",
            "['CS681', 'ME201', 'M201'] => ['HU481'] : 95%\n",
            "['ME201', 'M201'] => ['HU481'] : 89%\n",
            "['ME201', 'HU301'] => ['HU481'] : 95%\n",
            "['CS605A', 'ES201'] => ['HU481'] : 87%\n",
            "['HU481', 'ES201'] => ['CS681'] : 80%\n",
            "['CS681', 'ES201'] => ['HU481'] : 92%\n",
            "['ES201'] => ['HU481'] : 91%\n",
            "['ES201', 'CS201'] => ['HU481'] : 91%\n",
            "['PH301'] => ['HU481'] : 92%\n",
            "['CS681', 'M(CS)401', 'CS302'] => ['HU481'] : 83%\n",
            "['M(CS)401', 'CS302'] => ['HU481'] : 83%\n",
            "['CS605A', 'CS302'] => ['HU481'] : 83%\n",
            "['CS681', 'CS302'] => ['HU481'] : 84%\n",
            "['CS302'] => ['HU481'] : 87%\n",
            "['CS302', 'M201'] => ['HU481'] : 83%\n",
            "['CH301', 'CS302', 'CS201'] => ['HU481'] : 90%\n",
            "['CS681', 'CH301', 'CS302'] => ['HU481'] : 86%\n",
            "['CH301', 'CS302'] => ['HU481'] : 90%\n",
            "['CS681', 'CS302', 'CS201'] => ['HU481'] : 84%\n",
            "['CS302', 'CS201'] => ['HU481'] : 85%\n",
            "['CS302', 'HU301'] => ['HU481'] : 92%\n",
            "['CS681', 'CS201'] => ['HU481'] : 91%\n",
            "['CS201'] => ['HU481'] : 91%\n",
            "['CH201', 'M201'] => ['HU481'] : 91%\n",
            "['M(CS)401', 'CH201'] => ['CS201'] : 82%\n",
            "['M(CS)401', 'CH201'] => ['HU481'] : 91%\n",
            "['CH301', 'CH201'] => ['HU481'] : 95%\n",
            "['CS201', 'CH201'] => ['HU481'] : 94%\n",
            "['CS681', 'CS201', 'CH201'] => ['HU481'] : 96%\n",
            "['CS681', 'CH201'] => ['HU481'] : 94%\n",
            "['CH201'] => ['HU481'] : 93%\n",
            "['ME201', 'CH201'] => ['HU481'] : 95%\n",
            "['CS605A', 'CH201'] => ['HU481'] : 96%\n",
            "['CH201', 'HU601'] => ['HU481'] : 95%\n",
            "['CH201', 'HU301'] => ['HU481'] : 95%\n",
            "['M(CS)401', 'M201'] => ['CS201'] : 81%\n",
            "['HU481', 'M(CS)401', 'M201'] => ['CS201'] : 83%\n",
            "['M(CS)401', 'CS201', 'M201'] => ['HU481'] : 90%\n",
            "['M(CS)401', 'M201'] => ['HU481'] : 88%\n",
            "['CH301', 'CS201', 'M201'] => ['HU481'] : 95%\n",
            "['CS681', 'CH301', 'M201'] => ['HU481'] : 91%\n",
            "['CH301', 'M201'] => ['HU481'] : 90%\n",
            "['CS681', 'CS201', 'M201'] => ['HU481'] : 93%\n",
            "['CS201', 'M201'] => ['HU481'] : 90%\n",
            "['CS681', 'M201'] => ['HU481'] : 91%\n",
            "['M201'] => ['HU481'] : 89%\n",
            "['CS201', 'M201', 'HU301'] => ['HU481'] : 100%\n",
            "['M201', 'HU301'] => ['CS681'] : 80%\n",
            "['CS681', 'M201', 'HU301'] => ['HU481'] : 96%\n",
            "['M201', 'HU301'] => ['HU481'] : 97%\n",
            "['CS605A', 'M201'] => ['HU481'] : 85%\n",
            "['CS601'] => ['HU481'] : 86%\n",
            "['M201', 'HU601'] => ['HU481'] : 95%\n",
            "['CS681', 'CS201', 'HU601'] => ['HU481'] : 91%\n",
            "['CS201', 'HU601'] => ['HU481'] : 94%\n",
            "['CS201', 'HU601', 'HU301'] => ['HU481'] : 95%\n",
            "['CS681', 'HU601'] => ['HU481'] : 92%\n",
            "['CS681', 'HU601', 'HU301'] => ['HU481'] : 93%\n",
            "['HU601'] => ['HU481'] : 94%\n",
            "['HU601', 'HU301'] => ['HU481'] : 95%\n",
            "['CS681', 'CH301', 'HU601'] => ['HU481'] : 95%\n",
            "['CH301', 'HU601'] => ['HU481'] : 96%\n",
            "['CH301', 'HU601'] => ['HU301'] : 85%\n",
            "['CH301', 'HU601'] => ['HU481', 'HU301'] : 81%\n",
            "['HU481', 'CH301', 'HU601'] => ['HU301'] : 84%\n",
            "['CH301', 'HU601', 'HU301'] => ['HU481'] : 95%\n",
            "['CS605A', 'HU601'] => ['HU481'] : 90%\n",
            "['CS681', 'HU301'] => ['HU481'] : 93%\n",
            "['HU301'] => ['HU481'] : 95%\n",
            "['CH301', 'CS201', 'HU301'] => ['HU481'] : 96%\n",
            "['CS681', 'CH301', 'HU301'] => ['HU481'] : 92%\n",
            "['CH301', 'HU301'] => ['HU481'] : 94%\n",
            "['CS681', 'CS201', 'HU301'] => ['HU481'] : 97%\n",
            "['CS201', 'HU301'] => ['HU481'] : 98%\n",
            "['CS605A', 'HU301'] => ['HU481'] : 93%\n",
            "['CS681', 'HU601', 'HU501'] => ['HU481'] : 95%\n",
            "['HU601', 'HU501'] => ['HU481'] : 97%\n",
            "['M201', 'HU501'] => ['HU481'] : 96%\n",
            "['CH301', 'HU501'] => ['HU481'] : 92%\n",
            "['CH301', 'HU301', 'HU501'] => ['HU481'] : 95%\n",
            "['CS681', 'HU501'] => ['HU481'] : 97%\n",
            "['HU501'] => ['HU481'] : 95%\n",
            "['CS605A', 'HU501'] => ['HU481'] : 100%\n",
            "['CS681', 'CS201', 'HU501'] => ['HU481'] : 95%\n",
            "['CS201', 'HU501'] => ['HU481'] : 92%\n",
            "['HU601', 'HU301', 'HU501'] => ['HU481'] : 96%\n",
            "['CS681', 'HU301', 'HU501'] => ['HU481'] : 95%\n",
            "['HU301', 'HU501'] => ['HU481'] : 97%\n"
          ],
          "name": "stdout"
        }
      ]
    },
    {
      "metadata": {
        "cellView": "form",
        "colab_type": "code",
        "id": "xitplqMNk_Hc",
        "outputId": "ed4f60d2-878d-4056-c438-352dac39a112",
        "colab": {
          "height": 420
        }
      },
      "cell_type": "code",
      "source": [
        "#@title Introducing Colaboratory\n",
        "#@markdown This 3-minute video gives an overview of the key features of Colaboratory:\n",
        "from IPython.display import YouTubeVideo\n",
        "YouTubeVideo('inN8seMm7UI', width=600, height=400)"
      ],
      "execution_count": 0,
      "outputs": [
        {
          "output_type": "execute_result",
          "data": {
            "text/html": [
              "\n",
              "        <iframe\n",
              "            width=\"600\"\n",
              "            height=400\"\n",
              "            src=\"https://www.youtube.com/embed/inN8seMm7UI\"\n",
              "            frameborder=\"0\"\n",
              "            allowfullscreen\n",
              "        ></iframe>\n",
              "        "
            ],
            "text/plain": [
              "<IPython.lib.display.YouTubeVideo at 0x7f956e9dda50>"
            ]
          },
          "metadata": {
            "tags": []
          },
          "execution_count": 0
        }
      ]
    },
    {
      "metadata": {
        "id": "djaWFtTrY1yc",
        "colab_type": "code",
        "colab": {
          "base_uri": "https://localhost:8080/",
          "height": 2604
        },
        "outputId": "f83c2da7-ec03-44b4-9332-9415eb1d4a16"
      },
      "cell_type": "code",
      "source": [
        "import freqItemsInCaseStudyWorstt"
      ],
      "execution_count": 4,
      "outputs": [
        {
          "output_type": "stream",
          "text": [
            "['ME201', 'CS303', 'CH201'] => ['CS301'] : 80%\n",
            "['ME201', 'CH201'] => ['CS301'] : 83%\n",
            "['ME201', 'CH201', 'ES201'] => ['CS301'] : 84%\n",
            "['ME201', 'CS303', 'CH201', 'ES201'] => ['CS301'] : 81%\n",
            "['ME201', 'CS303', 'ES201'] => ['CS301'] : 80%\n",
            "['ME201', 'ES201'] => ['CS301'] : 83%\n",
            "['ME201', 'PH301', 'CS303', 'ES201'] => ['CS301'] : 81%\n",
            "['ME201', 'PH301', 'CS303', 'ES201'] => ['CH201'] : 85%\n",
            "['ME201', 'CS303', 'CH201', 'ES201'] => ['PH301'] : 85%\n",
            "['ME201', 'PH301', 'ES201'] => ['CH201'] : 85%\n",
            "['ME201', 'PH301', 'ES201'] => ['CS301'] : 85%\n",
            "['CS301', 'ME201', 'PH301', 'CH201'] => ['ES201'] : 80%\n",
            "['CS301', 'ME201', 'PH301', 'ES201'] => ['CH201'] : 83%\n",
            "['ME201', 'PH301', 'CH201', 'ES201'] => ['CS301'] : 83%\n",
            "['ME201', 'PH301', 'CH201'] => ['CS301'] : 81%\n",
            "['ME201', 'CS303', 'CH201'] => ['PH301'] : 83%\n",
            "['ME201', 'PH301'] => ['CS301'] : 83%\n",
            "['ME201'] => ['CS301'] : 83%\n",
            "['CS201', 'CS604A/ CS604B', 'CH201'] => ['CS303'] : 83%\n",
            "['CS201', 'CS604A/ CS604B', 'ES201'] => ['CH201'] : 90%\n",
            "['CS201', 'CS604A/ CS604B'] => ['CS303'] : 83%\n",
            "['CS201', 'PH301', 'CH201'] => ['CS303'] : 86%\n",
            "['CS201', 'PH301', 'ES201'] => ['CS303'] : 86%\n",
            "['CS201', 'PH301'] => ['CS303'] : 84%\n",
            "['ME201', 'M201', 'PH301'] => ['CH201'] : 90%\n",
            "['ME201', 'M201', 'ES201'] => ['CH201'] : 83%\n",
            "['CS301', 'ME201', 'M201'] => ['CH201'] : 83%\n",
            "['M201', 'PH301', 'ES201'] => ['CH201'] : 83%\n",
            "['PH301'] => ['CS303'] : 83%\n",
            "['PH301'] => ['CS301'] : 83%\n",
            "['CS301', 'PH301'] => ['CS303'] : 80%\n",
            "['PH301', 'CS303'] => ['CS301'] : 80%\n",
            "['CS303'] => ['CS301'] : 82%\n",
            "['ME201', 'CS604A/ CS604B', 'ES201'] => ['CH201'] : 82%\n",
            "['ME201', 'CS604A/ CS604B', 'ES201'] => ['PH301'] : 82%\n",
            "['ME201', 'PH301', 'CS604A/ CS604B'] => ['CH201'] : 81%\n",
            "['ME201', 'CS604A/ CS604B', 'CH201'] => ['PH301'] : 85%\n",
            "['ME201', 'CS604A/ CS604B'] => ['PH301'] : 82%\n",
            "['CS301', 'ME201', 'CS604A/ CS604B'] => ['PH301'] : 83%\n",
            "['ME201', 'CS303', 'CS604A/ CS604B'] => ['PH301'] : 88%\n",
            "['PH301', 'CS604A/ CS604B', 'CH201'] => ['CS303'] : 83%\n",
            "['PH301', 'CS604A/ CS604B', 'ES201'] => ['CS303'] : 85%\n",
            "['CS301', 'PH301', 'CS604A/ CS604B'] => ['CS303'] : 82%\n",
            "['PH301', 'CS604A/ CS604B'] => ['CS303'] : 86%\n",
            "['CS604A/ CS604B'] => ['CS303'] : 82%\n",
            "['CS301', 'CS604A/ CS604B'] => ['CS303'] : 81%\n",
            "['CS303', 'CH201', 'ES201'] => ['CS301'] : 81%\n",
            "['CH201', 'ES201'] => ['CS301'] : 81%\n",
            "['PH301', 'CH201', 'ES201'] => ['CS301'] : 80%\n",
            "['PH301', 'CH201', 'ES201'] => ['CS303'] : 82%\n",
            "['PH301', 'CH201'] => ['CS303'] : 83%\n",
            "['PH301', 'CH201'] => ['CS301'] : 81%\n",
            "['CS303', 'CH201'] => ['CS301'] : 81%\n",
            "['CH201'] => ['CS301'] : 82%\n",
            "['PH301', 'ES201'] => ['CS303'] : 81%\n",
            "['PH301', 'ES201'] => ['CS301'] : 83%\n",
            "['CS303', 'ES201'] => ['CS301'] : 82%\n",
            "['ES201'] => ['CS301'] : 83%\n",
            "['ES201', 'HU301'] => ['CS301'] : 81%\n",
            "['CS303', 'HU301'] => ['CS301'] : 81%\n",
            "['HU301'] => ['CS301'] : 83%\n",
            "['HU301', 'CS402'] => ['CS301'] : 95%\n",
            "['CH301'] => ['CS301'] : 87%\n",
            "['CH301'] => ['CS303'] : 80%\n",
            "['CS301', 'CH301'] => ['CS303'] : 81%\n",
            "['CS303', 'CH301'] => ['CS301'] : 88%\n",
            "['CH301'] => ['ES201'] : 80%\n",
            "['CS301', 'CH301'] => ['ES201'] : 81%\n",
            "['ES201', 'CH301'] => ['CS301'] : 88%\n",
            "['CH201', 'CS401'] => ['CS301'] : 86%\n",
            "['CH201', 'CS401'] => ['PH301'] : 82%\n",
            "['CS401'] => ['CS301'] : 81%\n",
            "['PH301', 'CS401'] => ['CS301'] : 81%\n",
            "['PH301', 'CS401'] => ['CS303'] : 81%\n",
            "['CS401', 'M401'] => ['CS303'] : 90%\n",
            "['CS401'] => ['CS303'] : 81%\n",
            "['M201', 'CS402'] => ['CS301'] : 82%\n",
            "['CH201', 'CS402'] => ['CS301'] : 83%\n",
            "['CS402'] => ['CS301'] : 84%\n",
            "['PH301', 'CS402'] => ['CS301'] : 85%\n",
            "['ES201', 'CS402'] => ['CS301'] : 85%\n",
            "['CS303', 'CS402'] => ['CS301'] : 81%\n",
            "['ME201', 'CS402'] => ['CS301'] : 86%\n",
            "['CS503'] => ['CS303'] : 81%\n",
            "['CS503'] => ['CS301'] : 81%\n",
            "['CS301', 'CS503'] => ['CS303'] : 81%\n",
            "['CS303', 'CS503'] => ['CS301'] : 81%\n",
            "['ME201', 'PH301', 'CS403'] => ['CS303'] : 83%\n",
            "['ME201', 'CS403'] => ['CS301'] : 84%\n",
            "['PH301', 'CS403'] => ['CS303'] : 83%\n",
            "['CS403'] => ['CS301'] : 81%\n",
            "['CS602'] => ['CS301'] : 80%\n",
            "['PH301', 'CS604A/ CS604B', 'M401'] => ['CS303'] : 82%\n",
            "['CS604A/ CS604B', 'M401'] => ['CS303'] : 83%\n",
            "['ES201', 'M401'] => ['PH301'] : 81%\n",
            "['CS301', 'ES201', 'M401'] => ['PH301'] : 80%\n",
            "['PH301', 'ES201', 'M401'] => ['CS301'] : 83%\n",
            "['CS301', 'PH301', 'ES201', 'M401'] => ['CS303'] : 83%\n",
            "['CS301', 'CS303', 'ES201', 'M401'] => ['PH301'] : 83%\n",
            "['PH301', 'CS303', 'ES201', 'M401'] => ['CS301'] : 80%\n",
            "['PH301', 'ES201', 'M401'] => ['CS303'] : 86%\n",
            "['CS303', 'ES201', 'M401'] => ['PH301'] : 83%\n",
            "['ES201', 'M401'] => ['CS303'] : 83%\n",
            "['ES201', 'M401'] => ['CS301'] : 83%\n",
            "['CS301', 'ES201', 'M401'] => ['CS303'] : 80%\n",
            "['CS303', 'ES201', 'M401'] => ['CS301'] : 80%\n",
            "['M401'] => ['PH301'] : 81%\n",
            "['PH301', 'M401'] => ['CS303'] : 86%\n",
            "['CS303', 'M401'] => ['PH301'] : 82%\n",
            "['CS301', 'M401'] => ['PH301'] : 80%\n",
            "['PH301', 'M401'] => ['CS301'] : 86%\n",
            "['CS301', 'PH301', 'M401'] => ['CS303'] : 83%\n",
            "['CS301', 'CS303', 'M401'] => ['PH301'] : 81%\n",
            "['PH301', 'CS303', 'M401'] => ['CS301'] : 83%\n",
            "['M401'] => ['CS303'] : 85%\n",
            "['CS301', 'M401'] => ['CS303'] : 82%\n",
            "['CS303', 'M401'] => ['CS301'] : 84%\n",
            "['M401'] => ['CS301'] : 87%\n",
            "['CS403', 'M401'] => ['CS301'] : 91%\n",
            "['CH201', 'M401'] => ['ES201'] : 82%\n",
            "['CH201', 'ES201', 'M401'] => ['CS301'] : 81%\n",
            "['PH301', 'CH201', 'M401'] => ['CS303'] : 85%\n",
            "['CS303', 'CH201', 'M401'] => ['PH301'] : 81%\n",
            "['PH301', 'CH201', 'M401'] => ['ES201'] : 85%\n",
            "['CH201', 'ES201', 'M401'] => ['PH301'] : 81%\n",
            "['PH301', 'CS303', 'CH201', 'M401'] => ['ES201'] : 86%\n",
            "['PH301', 'CH201', 'ES201', 'M401'] => ['CS303'] : 86%\n",
            "['CS303', 'CH201', 'ES201', 'M401'] => ['PH301'] : 86%\n",
            "['PH301', 'CH201', 'M401'] => ['CS301'] : 81%\n",
            "['CH201', 'M401'] => ['CS303'] : 82%\n",
            "['CS303', 'CH201', 'M401'] => ['ES201'] : 81%\n",
            "['CH201', 'ES201', 'M401'] => ['CS303'] : 81%\n",
            "['CS303', 'CH201', 'M401'] => ['CS301'] : 81%\n",
            "['CH201', 'M401'] => ['CS301'] : 85%\n",
            "['ME201', 'M401'] => ['PH301'] : 85%\n",
            "['ME201', 'M401'] => ['CS301'] : 85%\n",
            "['CS301', 'ME201', 'M401'] => ['PH301'] : 86%\n",
            "['ME201', 'PH301', 'M401'] => ['CS301'] : 86%\n",
            "['CS502'] => ['CS303'] : 83%\n",
            "['CS301', 'CS502'] => ['CS303'] : 82%\n",
            "['CS303', 'CS502'] => ['CS301'] : 90%\n",
            "['CS502'] => ['CS301'] : 92%\n",
            "['CS603'] => ['CS301'] : 88%\n",
            "['PH301', 'M(CS)401'] => ['CS303'] : 100%\n",
            "['M(CS)401'] => ['CS303'] : 100%\n",
            "['CS301', 'M(CS)401'] => ['CS303'] : 100%\n",
            "['PH301', 'CS302'] => ['CS301'] : 95%\n",
            "['CS302'] => ['CS303'] : 80%\n",
            "['CS301', 'CS302'] => ['CS303'] : 84%\n",
            "['CS303', 'CS302'] => ['CS301'] : 96%\n",
            "['CS302'] => ['CS301'] : 91%\n",
            "['CS301', 'ES201', 'CS302'] => ['CS303'] : 86%\n",
            "['CS303', 'ES201', 'CS302'] => ['CS301'] : 100%\n",
            "['ES201', 'CS302'] => ['CS301'] : 91%\n"
          ],
          "name": "stdout"
        }
      ]
    },
    {
      "metadata": {
        "id": "l3pBqiTtX-4F",
        "colab_type": "text"
      },
      "cell_type": "markdown",
      "source": [
        ""
      ]
    },
    {
      "metadata": {
        "colab_type": "text",
        "id": "GJBs_flRovLc"
      },
      "cell_type": "markdown",
      "source": [
        "## Getting Started\n",
        "\n",
        "The document you are reading is a  [Jupyter notebook](https://jupyter.org/), hosted in Colaboratory. It is not a static page, but an interactive environment that lets you write and execute code in Python and other languages.\n",
        "\n",
        "For example, here is a **code cell** with a short Python script that computes a value, stores it in a variable, and prints the result:"
      ]
    },
    {
      "metadata": {
        "colab_type": "code",
        "id": "gJr_9dXGpJ05",
        "outputId": "5626194c-e802-4293-942d-2908885c3c1f",
        "colab": {
          "height": 35
        }
      },
      "cell_type": "code",
      "source": [
        "seconds_in_a_day = 24 * 60 * 60\n",
        "seconds_in_a_day"
      ],
      "execution_count": 0,
      "outputs": [
        {
          "output_type": "execute_result",
          "data": {
            "text/plain": [
              "86400"
            ]
          },
          "metadata": {
            "tags": []
          },
          "execution_count": 0
        }
      ]
    },
    {
      "metadata": {
        "colab_type": "text",
        "id": "2fhs6GZ4qFMx"
      },
      "cell_type": "markdown",
      "source": [
        "To execute the code in the above cell, select it with a click and then either press the ▷ button to the left of the code, or use the keyboard shortcut \"⌘/Ctrl+Enter\".\n",
        "\n",
        "All cells modify the same global state, so variables that you define by executing a cell can be used in other cells:"
      ]
    },
    {
      "metadata": {
        "colab_type": "code",
        "id": "-gE-Ez1qtyIA",
        "outputId": "8d2e4259-4682-4e19-b683-7b9087f28820",
        "colab": {
          "height": 35
        }
      },
      "cell_type": "code",
      "source": [
        "seconds_in_a_week = 7 * seconds_in_a_day\n",
        "seconds_in_a_week"
      ],
      "execution_count": 0,
      "outputs": [
        {
          "output_type": "execute_result",
          "data": {
            "text/plain": [
              "604800"
            ]
          },
          "metadata": {
            "tags": []
          },
          "execution_count": 0
        }
      ]
    },
    {
      "metadata": {
        "colab_type": "text",
        "id": "lSrWNr3MuFUS"
      },
      "cell_type": "markdown",
      "source": [
        "For more information about working with Colaboratory notebooks, see [Overview of Colaboratory](/notebooks/basic_features_overview.ipynb).\n"
      ]
    },
    {
      "metadata": {
        "colab_type": "text",
        "id": "-Rh3-Vt9Nev9"
      },
      "cell_type": "markdown",
      "source": [
        "## More Resources\n",
        "\n",
        "Learn how to make the most of Python, Jupyter, Colaboratory, and related tools with these resources:\n",
        "\n",
        "### Working with Notebooks in Colaboratory\n",
        "- [Overview of Colaboratory](/notebooks/basic_features_overview.ipynb)\n",
        "- [Guide to Markdown](/notebooks/markdown_guide.ipynb)\n",
        "- [Importing libraries and installing dependencies](/notebooks/snippets/importing_libraries.ipynb)\n",
        "- [Saving and loading notebooks in GitHub](https://colab.research.google.com/github/googlecolab/colabtools/blob/master/notebooks/colab-github-demo.ipynb)\n",
        "- [Interactive forms](/notebooks/forms.ipynb)\n",
        "- [Interactive widgets](/notebooks/widgets.ipynb)\n",
        "\n",
        "### Working with Data\n",
        "- [Loading data: Drive, Sheets, and Google Cloud Storage](/notebooks/io.ipynb) \n",
        "- [Charts: visualizing data](/notebooks/charts.ipynb)\n",
        "- [Getting started with BigQuery](/notebooks/bigquery.ipynb)\n",
        "\n",
        "### Machine Learning Crash Course\n",
        "These are a few of the notebooks from Google's online Machine Learning course. See the [full course website](https://developers.google.com/machine-learning/crash-course/) for more.\n",
        "- [Intro to Pandas](/notebooks/mlcc/intro_to_pandas.ipynb)\n",
        "- [Tensorflow concepts](/notebooks/mlcc/tensorflow_programming_concepts.ipynb)\n",
        "- [First steps with TensorFlow](/notebooks/mlcc/first_steps_with_tensor_flow.ipynb)\n",
        "- [Intro to neural nets](/notebooks/mlcc/intro_to_neural_nets.ipynb)\n",
        "- [Intro to sparse data and embeddings](/notebooks/mlcc/intro_to_sparse_data_and_embeddings.ipynb)\n",
        "\n",
        "### Using Accelerated Hardware\n",
        "- [TensorFlow with GPUs](/notebooks/gpu.ipynb)\n",
        "- [TensorFlow with TPUs](/notebooks/tpu.ipynb)"
      ]
    },
    {
      "metadata": {
        "colab_type": "text",
        "id": "P-H6Lw1vyNNd"
      },
      "cell_type": "markdown",
      "source": [
        "## Machine Learning Examples: Seedbank\n",
        "\n",
        "To see end-to-end examples of the interactive machine learning analyses that Colaboratory makes possible, check out the [Seedbank](https://research.google.com/seedbank/) project.\n",
        "\n",
        "A few featured examples:\n",
        "\n",
        "- [Neural Style Transfer](https://research.google.com/seedbank/seed/neural_style_transfer_with_tfkeras): Use deep learning to transfer style between images.\n",
        "- [EZ NSynth](https://research.google.com/seedbank/seed/ez_nsynth): Synthesize audio with WaveNet auto-encoders.\n",
        "- [Fashion MNIST with Keras and TPUs](https://research.google.com/seedbank/seed/fashion_mnist_with_keras_and_tpus): Classify fashion-related images with deep learning.\n",
        "- [DeepDream](https://research.google.com/seedbank/seed/deepdream): Produce DeepDream images from your own photos.\n",
        "- [Convolutional VAE](https://research.google.com/seedbank/seed/convolutional_vae): Create a generative model of handwritten digits."
      ]
    },
    {
      "metadata": {
        "id": "ht9P5sqUX9Rd",
        "colab_type": "code",
        "colab": {}
      },
      "cell_type": "code",
      "source": [
        ""
      ],
      "execution_count": 0,
      "outputs": []
    }
  ]
}