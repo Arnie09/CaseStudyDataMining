{
  "nbformat": 4,
  "nbformat_minor": 0,
  "metadata": {
    "colab": {
      "name": "AnalysisSubjectWise",
      "version": "0.3.2",
      "provenance": [],
      "collapsed_sections": []
    },
    "kernelspec": {
      "name": "python3",
      "display_name": "Python 3"
    }
  },
  "cells": [
    {
      "metadata": {
        "id": "ccU3oEVwAizB",
        "colab_type": "code",
        "outputId": "534a81d4-416b-4bb3-bcdc-3c80a4f49692",
        "colab": {
          "base_uri": "https://localhost:8080/",
          "height": 130
        }
      },
      "cell_type": "code",
      "source": [
        "from google.colab import drive\n",
        "drive.mount('/content/drive')"
      ],
      "execution_count": 0,
      "outputs": [
        {
          "output_type": "stream",
          "text": [
            "Go to this URL in a browser: https://accounts.google.com/o/oauth2/auth?client_id=947318989803-6bn6qk8qdgf4n4g3pfee6491hc0brc4i.apps.googleusercontent.com&redirect_uri=urn%3Aietf%3Awg%3Aoauth%3A2.0%3Aoob&scope=email%20https%3A%2F%2Fwww.googleapis.com%2Fauth%2Fdocs.test%20https%3A%2F%2Fwww.googleapis.com%2Fauth%2Fdrive%20https%3A%2F%2Fwww.googleapis.com%2Fauth%2Fdrive.photos.readonly%20https%3A%2F%2Fwww.googleapis.com%2Fauth%2Fpeopleapi.readonly&response_type=code\n",
            "\n",
            "Enter your authorization code:\n",
            "··········\n",
            "Mounted at /content/drive\n"
          ],
          "name": "stdout"
        }
      ]
    },
    {
      "metadata": {
        "id": "mJuB_hV6CWzE",
        "colab_type": "code",
        "colab": {}
      },
      "cell_type": "code",
      "source": [
        "'''Loading dependancies'''\n",
        "import pandas as pd\n",
        "from Apriori_core import apriori\n",
        "import os\n",
        "import sys"
      ],
      "execution_count": 0,
      "outputs": []
    },
    {
      "metadata": {
        "id": "esYn07rPGWoL",
        "colab_type": "code",
        "colab": {}
      },
      "cell_type": "code",
      "source": [
        "'''Loading files '''\n",
        "dataCore = pd.read_csv('CoreSubjectsData.csv')\n",
        "dataCoreTheory = pd.read_csv('CoreSubjectsDataTheory.csv')\n",
        "dataOther = pd.read_csv('OtherSubjectsData.csv')\n",
        "dataOtherTheory = pd.read_csv('OtherSubjectsTheory.csv')"
      ],
      "execution_count": 0,
      "outputs": []
    },
    {
      "metadata": {
        "id": "RhXxhFqcKsJz",
        "colab_type": "code",
        "outputId": "50eb9752-90ce-4ae8-8751-cf72e0a0fdf4",
        "colab": {
          "base_uri": "https://localhost:8080/",
          "height": 73
        }
      },
      "cell_type": "code",
      "source": [
        "'''Taking user input'''\n",
        "mini = int(input(\"Enter the minimum occurences in lists: \"))\n",
        "rulesMin = float(input(\"Enter the minimum criteria for rules : \"))\n",
        "subjects = int(input(\"Enter the number of subjects that you want to take good/bad (Max 10) : \"))"
      ],
      "execution_count": 27,
      "outputs": [
        {
          "output_type": "stream",
          "text": [
            "Enter the minimum occurences in lists: 5\n",
            "Enter the minimum criteria for rules : 0.9\n",
            "Enter the number of subjects that you want to take good/bad (Max 10) : 10\n"
          ],
          "name": "stdout"
        }
      ]
    },
    {
      "metadata": {
        "id": "_zJ49_xROEJk",
        "colab_type": "code",
        "colab": {}
      },
      "cell_type": "code",
      "source": [
        "'''Stroring the subject lists of each category of subjects'''\n",
        "SUBJECTS_C = list(dataCore.columns.values)\n",
        "SUBJECTS_CT = list(dataCoreTheory.columns.values)\n",
        "SUBJECTS_O = list(dataOther.columns.values)\n",
        "SUBJECTS_OT = list(dataOtherTheory.columns.values)"
      ],
      "execution_count": 0,
      "outputs": []
    },
    {
      "metadata": {
        "id": "ZS4fmX0ZOlNy",
        "colab_type": "code",
        "colab": {}
      },
      "cell_type": "code",
      "source": [
        "'''Initialising the data of the dictionaries to be run with apriori'''\n",
        "subjectsCoreDictGood = {}\n",
        "subjectsCoreDictBad = {}\n",
        "subjectsCoreTheoryDictGood = {}\n",
        "subjectsCoreTheoryDictBad = {}\n",
        "subjectsOtherDictGood = {}\n",
        "subjectsOtherDictBad = {}\n",
        "subjectsOtherTheoryDictGood = {}\n",
        "subjectsOtherTheoryDictBad = {}\n",
        "\n",
        "'''Core Good'''\n",
        "for rollNo in dataCore.index:\n",
        "    SUBJECTS_WITH_MARKS={}\n",
        "    for subject in SUBJECTS_C:\n",
        "        SUBJECTS_WITH_MARKS[subject]=dataCore.loc[rollNo][subject]\n",
        "    Chosen_10=[x[0] for x in sorted(SUBJECTS_WITH_MARKS.items(), key=lambda P:P[1],reverse=True)][:subjects]\n",
        "\n",
        "    subjectsCoreDictGood[rollNo]=Chosen_10\n",
        "\n",
        "'''Core Bad'''\n",
        "for rollNo in dataCore.index:\n",
        "    SUBJECTS_WITH_MARKS={}\n",
        "    for subject in SUBJECTS_C:\n",
        "        SUBJECTS_WITH_MARKS[subject]=dataCore.loc[rollNo][subject]\n",
        "    Chosen_10=[x[0] for x in sorted(SUBJECTS_WITH_MARKS.items(), key=lambda P:P[1],reverse=False)][:subjects]\n",
        "\n",
        "    subjectsCoreDictBad[rollNo]=Chosen_10\n",
        "    \n",
        "'''Core Theory Good'''\n",
        "for rollNo in dataCoreTheory.index:\n",
        "    SUBJECTS_WITH_MARKS={}\n",
        "    for subject in SUBJECTS_CT:\n",
        "        SUBJECTS_WITH_MARKS[subject]=dataCoreTheory.loc[rollNo][subject]\n",
        "    Chosen_10=[x[0] for x in sorted(SUBJECTS_WITH_MARKS.items(), key=lambda P:P[1],reverse=True)][:subjects]\n",
        "\n",
        "    subjectsCoreTheoryDictGood[rollNo]=Chosen_10\n",
        "    \n",
        "'''Core theory Bad'''\n",
        "for rollNo in dataCoreTheory.index:\n",
        "    SUBJECTS_WITH_MARKS={}\n",
        "    for subject in SUBJECTS_CT:\n",
        "        SUBJECTS_WITH_MARKS[subject]=dataCoreTheory.loc[rollNo][subject]\n",
        "    Chosen_10=[x[0] for x in sorted(SUBJECTS_WITH_MARKS.items(), key=lambda P:P[1],reverse=False)][:subjects]\n",
        "\n",
        "    subjectsCoreTheoryDictBad[rollNo]=Chosen_10\n",
        "    \n",
        "'''Other Good'''\n",
        "for rollNo in dataOther.index:\n",
        "    SUBJECTS_WITH_MARKS={}\n",
        "    for subject in SUBJECTS_O:\n",
        "        SUBJECTS_WITH_MARKS[subject]=dataOther.loc[rollNo][subject]\n",
        "    Chosen_10=[x[0] for x in sorted(SUBJECTS_WITH_MARKS.items(), key=lambda P:P[1],reverse=True)][:subjects]\n",
        "\n",
        "    subjectsOtherDictGood[rollNo]=Chosen_10\n",
        "    \n",
        "'''Other Bad'''\n",
        "for rollNo in dataOther.index:\n",
        "    SUBJECTS_WITH_MARKS={}\n",
        "    for subject in SUBJECTS_O:\n",
        "        SUBJECTS_WITH_MARKS[subject]=dataOther.loc[rollNo][subject]\n",
        "    Chosen_10=[x[0] for x in sorted(SUBJECTS_WITH_MARKS.items(), key=lambda P:P[1],reverse=False)][:subjects]\n",
        "\n",
        "    subjectsOtherDictGood[rollNo]=Chosen_10\n",
        "    \n",
        "'''Other Theory Good'''\n",
        "for rollNo in dataOtherTheory.index:\n",
        "    SUBJECTS_WITH_MARKS={}\n",
        "    for subject in SUBJECTS_OT:\n",
        "        SUBJECTS_WITH_MARKS[subject]=dataOtherTheory.loc[rollNo][subject]\n",
        "    Chosen_10=[x[0] for x in sorted(SUBJECTS_WITH_MARKS.items(), key=lambda P:P[1],reverse=True)][:subjects]\n",
        "\n",
        "    subjectsOtherTheoryDictGood[rollNo]=Chosen_10\n",
        "    \n",
        "'''Other Theory Bad'''\n",
        "for rollNo in dataOtherTheory.index:\n",
        "    SUBJECTS_WITH_MARKS={}\n",
        "    for subject in SUBJECTS_OT:\n",
        "        SUBJECTS_WITH_MARKS[subject]=dataOtherTheory.loc[rollNo][subject]\n",
        "    Chosen_10=[x[0] for x in sorted(SUBJECTS_WITH_MARKS.items(), key=lambda P:P[1],reverse=False)][:subjects]\n",
        "\n",
        "    subjectsOtherTheoryDictBad[rollNo]=Chosen_10"
      ],
      "execution_count": 0,
      "outputs": []
    },
    {
      "metadata": {
        "id": "i8s6tortVzsT",
        "colab_type": "code",
        "colab": {}
      },
      "cell_type": "code",
      "source": [
        "DATAFRAME_C_Good = pd.DataFrame.from_dict(subjectsCoreDictGood,orient = \"index\")\n",
        "DATAFRAME_C_Good.to_csv(os.path.join(sys.path[0],\"DataCoreGood.csv\"))\n",
        "\n",
        "DATAFRAME_C_Bad = pd.DataFrame.from_dict(subjectsCoreDictBad,orient = \"index\")\n",
        "DATAFRAME_C_Bad.to_csv(os.path.join(sys.path[0],\"DataCoreBad.csv\"))\n",
        "\n",
        "DATAFRAME_CT_Good = pd.DataFrame.from_dict(subjectsCoreTheoryDictGood,orient = \"index\")\n",
        "DATAFRAME_CT_Good.to_csv(os.path.join(sys.path[0],\"DataCoreTheoryGood.csv\"))\n",
        "\n",
        "DATAFRAME_CT_Bad = pd.DataFrame.from_dict(subjectsCoreTheoryDictBad,orient = \"index\")\n",
        "DATAFRAME_CT_Bad.to_csv(os.path.join(sys.path[0],\"DataCoreTheoryBad.csv\"))\n",
        "\n",
        "DATAFRAME_O_Good = pd.DataFrame.from_dict(subjectsOtherDictGood,orient = \"index\")\n",
        "DATAFRAME_O_Good.to_csv(os.path.join(sys.path[0],\"DataOtherGood.csv\"))\n",
        "\n",
        "DATAFRAME_O_Bad = pd.DataFrame.from_dict(subjectsOtherDictBad,orient = \"index\")\n",
        "DATAFRAME_O_Bad.to_csv(os.path.join(sys.path[0],\"DataOtherBad.csv\"))\n",
        "\n",
        "DATAFRAME_OT_Good = pd.DataFrame.from_dict(subjectsOtherTheoryDictGood,orient = \"index\")\n",
        "DATAFRAME_OT_Good.to_csv(os.path.join(sys.path[0],\"DataOtherTheoryGood.csv\"))\n",
        "\n",
        "DATAFRAME_C_Good = pd.DataFrame.from_dict(subjectsOtherTheoryDictBad,orient = \"index\")\n",
        "DATAFRAME_C_Good.to_csv(os.path.join(sys.path[0],\"DataOtherTheoryBad.csv\"))"
      ],
      "execution_count": 0,
      "outputs": []
    }
  ]
}